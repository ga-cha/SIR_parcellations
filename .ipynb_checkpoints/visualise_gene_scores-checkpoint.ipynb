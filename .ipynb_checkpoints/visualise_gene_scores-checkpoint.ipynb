{
 "cells": [
  {
   "cell_type": "code",
   "execution_count": 11,
   "id": "f22e0e54-8d3b-4253-a26e-7b0579159645",
   "metadata": {},
   "outputs": [],
   "source": [
    "# plots atrophy output from SIR simulator\n",
    "\n",
    "import pandas as pd\n",
    "import nibabel as nib\n",
    "import nilearn.plotting\n",
    "import numpy as np\n",
    "import math\n",
    "\n",
    "from nilearn import datasets\n",
    "from nilearn import surface\n",
    "\n",
    "score = pd.read_csv('./data/pcs/lyso_score.csv')"
   ]
  },
  {
   "cell_type": "code",
   "execution_count": 4,
   "id": "ef82f19c-1d6c-4439-9f90-52bb80e12bca",
   "metadata": {},
   "outputs": [],
   "source": [
    "atlas_img = nib.load('./data/desikan_killiany_1.5mm.nii.gz')\n",
    "# determine atlas shape\n",
    "x, y, z = atlas_img.shape\n",
    "atlas_data = atlas_img.get_fdata()"
   ]
  },
  {
   "cell_type": "code",
   "execution_count": 23,
   "id": "afeb96af-3442-4431-8de5-351203acc66c",
   "metadata": {},
   "outputs": [
    {
     "ename": "IndexError",
     "evalue": "index 40 is out of bounds for axis 0 with size 40",
     "output_type": "error",
     "traceback": [
      "\u001b[1;31m---------------------------------------------------------------------------\u001b[0m",
      "\u001b[1;31mIndexError\u001b[0m                                Traceback (most recent call last)",
      "Cell \u001b[1;32mIn[23], line 11\u001b[0m\n\u001b[0;32m      9\u001b[0m vox_score \u001b[38;5;241m=\u001b[39m \u001b[38;5;241m0\u001b[39m\n\u001b[0;32m     10\u001b[0m \u001b[38;5;28;01mif\u001b[39;00m roi \u001b[38;5;241m>\u001b[39m \u001b[38;5;241m0\u001b[39m \u001b[38;5;129;01mand\u001b[39;00m roi \u001b[38;5;241m<\u001b[39m \u001b[38;5;241m42\u001b[39m:\n\u001b[1;32m---> 11\u001b[0m     vox_score \u001b[38;5;241m=\u001b[39m \u001b[43mscore\u001b[49m\u001b[38;5;241;43m.\u001b[39;49m\u001b[43miloc\u001b[49m\u001b[43m[\u001b[49m\u001b[43mroi\u001b[49m\u001b[38;5;241;43m-\u001b[39;49m\u001b[38;5;241;43m1\u001b[39;49m\u001b[43m]\u001b[49m\u001b[43m[\u001b[49m\u001b[43mpc\u001b[49m\u001b[43m]\u001b[49m\n\u001b[0;32m     12\u001b[0m     \u001b[38;5;28;01mif\u001b[39;00m vox_score \u001b[38;5;241m>\u001b[39m \u001b[38;5;241m0\u001b[39m:\n\u001b[0;32m     13\u001b[0m         vox_score \u001b[38;5;241m=\u001b[39m math\u001b[38;5;241m.\u001b[39mlog2(vox_score)\n",
      "File \u001b[1;32m~\\ga-cha\\miniconda\\envs\\sir\\Lib\\site-packages\\pandas\\core\\series.py:979\u001b[0m, in \u001b[0;36mSeries.__getitem__\u001b[1;34m(self, key)\u001b[0m\n\u001b[0;32m    976\u001b[0m     key \u001b[38;5;241m=\u001b[39m unpack_1tuple(key)\n\u001b[0;32m    978\u001b[0m \u001b[38;5;28;01mif\u001b[39;00m is_integer(key) \u001b[38;5;129;01mand\u001b[39;00m \u001b[38;5;28mself\u001b[39m\u001b[38;5;241m.\u001b[39mindex\u001b[38;5;241m.\u001b[39m_should_fallback_to_positional:\n\u001b[1;32m--> 979\u001b[0m     \u001b[38;5;28;01mreturn\u001b[39;00m \u001b[38;5;28;43mself\u001b[39;49m\u001b[38;5;241;43m.\u001b[39;49m\u001b[43m_values\u001b[49m\u001b[43m[\u001b[49m\u001b[43mkey\u001b[49m\u001b[43m]\u001b[49m\n\u001b[0;32m    981\u001b[0m \u001b[38;5;28;01melif\u001b[39;00m key_is_scalar:\n\u001b[0;32m    982\u001b[0m     \u001b[38;5;28;01mreturn\u001b[39;00m \u001b[38;5;28mself\u001b[39m\u001b[38;5;241m.\u001b[39m_get_value(key)\n",
      "\u001b[1;31mIndexError\u001b[0m: index 40 is out of bounds for axis 0 with size 40"
     ]
    }
   ],
   "source": [
    "# pc = 0\n",
    "for pc in range(40):\n",
    "    score_data = np.zeros((x,y,z))\n",
    "    # adjust data\n",
    "    for i in range (0, x):\n",
    "        for j in range (0, y):\n",
    "            for k in range (0, z):\n",
    "                roi = int(atlas_data[i][j][k])\n",
    "                vox_score = 0\n",
    "                if roi > 0 and roi < 42:\n",
    "                    vox_score = score.iloc[roi-1][pc]\n",
    "                    if vox_score > 0:\n",
    "                        vox_score = math.log2(vox_score)\n",
    "                    if vox_score < 0:\n",
    "                        vox_score = -math.log2(-vox_score)\n",
    "                score_data[i][j][k] = vox_score\n",
    "    \n",
    "    # # set datatype in header (float32)\n",
    "    score_header = atlas_img.header.copy()\n",
    "    score_header['datatype'] = 16\n",
    "    score_affine = atlas_img.affine.copy()\n",
    "    \n",
    "    score_img = nib.nifti1.Nifti1Image(score_data, score_affine, header=score_header)\n",
    "    \n",
    "    fsaverage = datasets.fetch_surf_fsaverage()\n",
    "    curv_left = surface.load_surf_data(fsaverage.curv_left)\n",
    "    curv_left_sign = np.sign(curv_left)\n",
    "    texture = surface.vol_to_surf(score_img, fsaverage.pial_left)\n",
    "    \n",
    "    nilearn.plotting.plot_img_on_surf(score_img,\n",
    "                                     views = ['lateral', 'medial'],\n",
    "                                     hemispheres = ['left'],\n",
    "                                     colorbar = True,\n",
    "                                     inflate = True,\n",
    "                                     output_file = \"./data/pcs/lyso_pc\" + str(pc+1))\n",
    "# nilearn.plotting.show()"
   ]
  }
 ],
 "metadata": {
  "kernelspec": {
   "display_name": "Python 3 (ipykernel)",
   "language": "python",
   "name": "python3"
  },
  "language_info": {
   "codemirror_mode": {
    "name": "ipython",
    "version": 3
   },
   "file_extension": ".py",
   "mimetype": "text/x-python",
   "name": "python",
   "nbconvert_exporter": "python",
   "pygments_lexer": "ipython3",
   "version": "3.11.4"
  }
 },
 "nbformat": 4,
 "nbformat_minor": 5
}
