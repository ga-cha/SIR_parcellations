{
 "cells": [
  {
   "cell_type": "code",
   "execution_count": 25,
   "id": "f22e0e54-8d3b-4253-a26e-7b0579159645",
   "metadata": {},
   "outputs": [],
   "source": [
    "# plots atrophy output from SIR simulator\n",
    "\n",
    "import pandas as pd\n",
    "import nibabel as nib\n",
    "import nilearn.plotting\n",
    "import numpy as np\n",
    "import math\n",
    "\n",
    "from nilearn import datasets\n",
    "from nilearn import surface\n",
    "\n",
    "lyso_score = pd.read_csv('./data/pcs/lyso_score.csv')\n",
    "ubq_score = pd.read_csv('./data/pcs/ubq_score.csv')\n",
    "risk_score = pd.read_csv('./data/pcs/risk_score.csv')"
   ]
  },
  {
   "cell_type": "code",
   "execution_count": 28,
   "id": "ef82f19c-1d6c-4439-9f90-52bb80e12bca",
   "metadata": {},
   "outputs": [],
   "source": [
    "atlas_img = nib.load('./data/desikan_killiany_1.5mm.nii.gz')\n",
    "# determine atlas shape\n",
    "x, y, z = atlas_img.shape\n",
    "atlas_data = atlas_img.get_fdata()\n",
    "\n",
    "\n",
    "# setup\n",
    "score = risk_score\n",
    "# setup image header\n",
    "score_header = atlas_img.header.copy()\n",
    "score_header['datatype'] = 16\n",
    "score_affine = atlas_img.affine.copy()\n",
    "\n",
    "# setup surface for plot_img_on_surf\n",
    "fsaverage = datasets.fetch_surf_fsaverage()\n",
    "curv_left = surface.load_surf_data(fsaverage.curv_left)\n",
    "curv_left_sign = np.sign(curv_left)"
   ]
  },
  {
   "cell_type": "code",
   "execution_count": 29,
   "id": "afeb96af-3442-4431-8de5-351203acc66c",
   "metadata": {},
   "outputs": [],
   "source": [
    "# pc = 0\n",
    "for pc in range(40):\n",
    "    score_data = np.zeros((x,y,z))\n",
    "    for i in range (0, x):\n",
    "        for j in range (0, y):\n",
    "            for k in range (0, z):\n",
    "                roi = int(atlas_data[i][j][k])\n",
    "                vox_score = 0\n",
    "                if roi > 0 and roi < 42:\n",
    "                    vox_score = score.iloc[roi-1][pc]\n",
    "                    if vox_score > 0:\n",
    "                        vox_score = math.log2(vox_score)\n",
    "                    if vox_score < 0:\n",
    "                        vox_score = -math.log2(-vox_score)\n",
    "                score_data[i][j][k] = vox_score\n",
    "    score_img = nib.nifti1.Nifti1Image(score_data, score_affine, header=score_header) \n",
    "\n",
    "    texture = surface.vol_to_surf(score_img, fsaverage.pial_left)\n",
    "    nilearn.plotting.plot_img_on_surf(score_img,\n",
    "                                     views = ['lateral', 'medial'],\n",
    "                                     hemispheres = ['left'],\n",
    "                                     colorbar = True,\n",
    "                                     inflate = True,\n",
    "                                     output_file = \"./data/pcs/risk_pc\" + str(pc+1))\n",
    "# nilearn.plotting.show()"
   ]
  }
 ],
 "metadata": {
  "kernelspec": {
   "display_name": "Python 3 (ipykernel)",
   "language": "python",
   "name": "python3"
  },
  "language_info": {
   "codemirror_mode": {
    "name": "ipython",
    "version": 3
   },
   "file_extension": ".py",
   "mimetype": "text/x-python",
   "name": "python",
   "nbconvert_exporter": "python",
   "pygments_lexer": "ipython3",
   "version": "3.11.4"
  }
 },
 "nbformat": 4,
 "nbformat_minor": 5
}
